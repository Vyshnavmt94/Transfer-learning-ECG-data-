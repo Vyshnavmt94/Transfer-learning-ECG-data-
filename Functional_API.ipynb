{
 "cells": [
  {
   "cell_type": "code",
   "execution_count": 23,
   "metadata": {},
   "outputs": [],
   "source": [
    "import numpy as np\n",
    "import pandas as pd\n",
    "import os\n",
    "from sklearn.preprocessing import Normalizer\n",
    "\n",
    "from keras.utils.np_utils import to_categorical\n",
    "from keras.models import Sequential\n",
    "from keras.layers import Dense, Dropout, Flatten, Convolution1D, MaxPooling1D,Activation, Add, Flatten, Softmax\n",
    "from keras import callbacks\n",
    "from keras.callbacks import CSVLogger\n",
    "from keras.callbacks import ModelCheckpoint, EarlyStopping, ReduceLROnPlateau\n",
    "\n",
    "import h5py\n",
    "from keras.models import Model\n",
    "import matplotlib.pyplot as plt"
   ]
  },
  {
   "cell_type": "code",
   "execution_count": 2,
   "metadata": {},
   "outputs": [],
   "source": [
    "path='Datas'\n",
    "\n",
    "train = pd.read_csv(os.path.join(path,'mitbih_train.csv'),header=None) \n",
    "test = pd.read_csv(os.path.join(path,'mitbih_test.csv'),header=None)\n",
    "\n",
    "x_train= train.iloc[:,0:187]\n",
    "y_train= train.iloc[:,187]\n",
    "\n",
    "x_test= test.iloc[:,0:187]\n",
    "y_test= test.iloc[:,187]"
   ]
  },
  {
   "cell_type": "code",
   "execution_count": 3,
   "metadata": {},
   "outputs": [],
   "source": [
    "scaler1= Normalizer().fit(x_train)\n",
    "x_train = scaler1.transform(x_train)\n",
    "\n",
    "scaler2= Normalizer().fit(x_test)\n",
    "x_test = scaler2.transform(x_test)"
   ]
  },
  {
   "cell_type": "code",
   "execution_count": 4,
   "metadata": {},
   "outputs": [
    {
     "data": {
      "text/plain": [
       "(87554, 187, 1)"
      ]
     },
     "execution_count": 4,
     "metadata": {},
     "output_type": "execute_result"
    }
   ],
   "source": [
    "x_train=np.array(x_train)\n",
    "x_test=np.array(x_test)\n",
    "\n",
    "x_train=np.reshape(x_train,(x_train.shape[0],x_train.shape[1],1))\n",
    "x_test=np.reshape(x_test,(x_test.shape[0],x_test.shape[1],1))\n",
    "x_train.shape"
   ]
  },
  {
   "cell_type": "code",
   "execution_count": 5,
   "metadata": {},
   "outputs": [
    {
     "data": {
      "text/plain": [
       "(87554, 5)"
      ]
     },
     "execution_count": 5,
     "metadata": {},
     "output_type": "execute_result"
    }
   ],
   "source": [
    "y_train = to_categorical(y_train)\n",
    "y_test = to_categorical(y_test)\n",
    "y_train.shape"
   ]
  },
  {
   "cell_type": "code",
   "execution_count": 15,
   "metadata": {},
   "outputs": [],
   "source": [
    "feature,depth=np.shape(x_train[0])"
   ]
  },
  {
   "cell_type": "code",
   "execution_count": 24,
   "metadata": {},
   "outputs": [
    {
     "name": "stdout",
     "output_type": "stream",
     "text": [
      "__________________________________________________________________________________________________\n",
      "Layer (type)                    Output Shape         Param #     Connected to                     \n",
      "==================================================================================================\n",
      "input_4 (InputLayer)            (None, 187, 1)       0                                            \n",
      "__________________________________________________________________________________________________\n",
      "conv1d_26 (Conv1D)              (None, 183, 32)      192         input_4[0][0]                    \n",
      "__________________________________________________________________________________________________\n",
      "conv1d_27 (Conv1D)              (None, 183, 32)      5152        conv1d_26[0][0]                  \n",
      "__________________________________________________________________________________________________\n",
      "activation_23 (Activation)      (None, 183, 32)      0           conv1d_27[0][0]                  \n",
      "__________________________________________________________________________________________________\n",
      "conv1d_28 (Conv1D)              (None, 183, 32)      5152        activation_23[0][0]              \n",
      "__________________________________________________________________________________________________\n",
      "add_11 (Add)                    (None, 183, 32)      0           conv1d_28[0][0]                  \n",
      "                                                                 conv1d_26[0][0]                  \n",
      "__________________________________________________________________________________________________\n",
      "activation_24 (Activation)      (None, 183, 32)      0           add_11[0][0]                     \n",
      "__________________________________________________________________________________________________\n",
      "max_pooling1d_11 (MaxPooling1D) (None, 90, 32)       0           activation_24[0][0]              \n",
      "__________________________________________________________________________________________________\n",
      "conv1d_29 (Conv1D)              (None, 90, 32)       5152        max_pooling1d_11[0][0]           \n",
      "__________________________________________________________________________________________________\n",
      "activation_25 (Activation)      (None, 90, 32)       0           conv1d_29[0][0]                  \n",
      "__________________________________________________________________________________________________\n",
      "conv1d_30 (Conv1D)              (None, 90, 32)       5152        activation_25[0][0]              \n",
      "__________________________________________________________________________________________________\n",
      "add_12 (Add)                    (None, 90, 32)       0           conv1d_30[0][0]                  \n",
      "                                                                 max_pooling1d_11[0][0]           \n",
      "__________________________________________________________________________________________________\n",
      "activation_26 (Activation)      (None, 90, 32)       0           add_12[0][0]                     \n",
      "__________________________________________________________________________________________________\n",
      "max_pooling1d_12 (MaxPooling1D) (None, 43, 32)       0           activation_26[0][0]              \n",
      "__________________________________________________________________________________________________\n",
      "conv1d_31 (Conv1D)              (None, 43, 32)       5152        max_pooling1d_12[0][0]           \n",
      "__________________________________________________________________________________________________\n",
      "activation_27 (Activation)      (None, 43, 32)       0           conv1d_31[0][0]                  \n",
      "__________________________________________________________________________________________________\n",
      "conv1d_32 (Conv1D)              (None, 43, 32)       5152        activation_27[0][0]              \n",
      "__________________________________________________________________________________________________\n",
      "add_13 (Add)                    (None, 43, 32)       0           conv1d_32[0][0]                  \n",
      "                                                                 max_pooling1d_12[0][0]           \n",
      "__________________________________________________________________________________________________\n",
      "activation_28 (Activation)      (None, 43, 32)       0           add_13[0][0]                     \n",
      "__________________________________________________________________________________________________\n",
      "max_pooling1d_13 (MaxPooling1D) (None, 20, 32)       0           activation_28[0][0]              \n",
      "__________________________________________________________________________________________________\n",
      "conv1d_33 (Conv1D)              (None, 20, 32)       5152        max_pooling1d_13[0][0]           \n",
      "__________________________________________________________________________________________________\n",
      "activation_29 (Activation)      (None, 20, 32)       0           conv1d_33[0][0]                  \n",
      "__________________________________________________________________________________________________\n",
      "conv1d_34 (Conv1D)              (None, 20, 32)       5152        activation_29[0][0]              \n",
      "__________________________________________________________________________________________________\n",
      "add_14 (Add)                    (None, 20, 32)       0           conv1d_34[0][0]                  \n",
      "                                                                 max_pooling1d_13[0][0]           \n",
      "__________________________________________________________________________________________________\n",
      "activation_30 (Activation)      (None, 20, 32)       0           add_14[0][0]                     \n",
      "__________________________________________________________________________________________________\n",
      "max_pooling1d_14 (MaxPooling1D) (None, 8, 32)        0           activation_30[0][0]              \n",
      "__________________________________________________________________________________________________\n",
      "conv1d_35 (Conv1D)              (None, 8, 32)        5152        max_pooling1d_14[0][0]           \n",
      "__________________________________________________________________________________________________\n",
      "activation_31 (Activation)      (None, 8, 32)        0           conv1d_35[0][0]                  \n",
      "__________________________________________________________________________________________________\n",
      "conv1d_36 (Conv1D)              (None, 8, 32)        5152        activation_31[0][0]              \n",
      "__________________________________________________________________________________________________\n",
      "add_15 (Add)                    (None, 8, 32)        0           conv1d_36[0][0]                  \n",
      "                                                                 max_pooling1d_14[0][0]           \n",
      "__________________________________________________________________________________________________\n",
      "activation_32 (Activation)      (None, 8, 32)        0           add_15[0][0]                     \n",
      "__________________________________________________________________________________________________\n",
      "max_pooling1d_15 (MaxPooling1D) (None, 2, 32)        0           activation_32[0][0]              \n",
      "__________________________________________________________________________________________________\n",
      "flatten_2 (Flatten)             (None, 64)           0           max_pooling1d_15[0][0]           \n",
      "__________________________________________________________________________________________________\n",
      "dense_4 (Dense)                 (None, 32)           2080        flatten_2[0][0]                  \n",
      "__________________________________________________________________________________________________\n",
      "activation_33 (Activation)      (None, 32)           0           dense_4[0][0]                    \n",
      "__________________________________________________________________________________________________\n",
      "dense_5 (Dense)                 (None, 32)           1056        activation_33[0][0]              \n",
      "__________________________________________________________________________________________________\n",
      "dense_6 (Dense)                 (None, 5)            165         dense_5[0][0]                    \n",
      "__________________________________________________________________________________________________\n",
      "softmax_1 (Softmax)             (None, 5)            0           dense_6[0][0]                    \n",
      "==================================================================================================\n",
      "Total params: 55,013\n",
      "Trainable params: 55,013\n",
      "Non-trainable params: 0\n",
      "__________________________________________________________________________________________________\n"
     ]
    }
   ],
   "source": [
    "# k.clear_session()\n",
    "\n",
    "from keras.layers import Input\n",
    "from keras.layers.convolutional import Conv1D\n",
    "\n",
    "inp=Input(shape=(feature,depth))\n",
    "C= Conv1D(filters=32, kernel_size=5, strides=1)(inp)\n",
    "\n",
    "C11=Conv1D(filters=32, kernel_size=5, strides=1, padding='same')(C)\n",
    "A11=Activation('relu')(C11)\n",
    "C12=Conv1D(filters=32, kernel_size=5, strides=1, padding='same')(A11)\n",
    "S11=Add()([C12,C])\n",
    "A12=Activation('relu')(S11)\n",
    "M11=MaxPooling1D(pool_size=5, strides=2)(A12)\n",
    "\n",
    "C21=Conv1D(filters=32, kernel_size=5, strides=1, padding='same')(M11)\n",
    "A21=Activation('relu')(C21)\n",
    "C22=Conv1D(filters=32, kernel_size=5, strides=1, padding='same')(A21)\n",
    "S21=Add()([C22,M11])\n",
    "A22=Activation('relu')(S21)\n",
    "M21=MaxPooling1D(pool_size=5, strides=2)(A22)\n",
    "\n",
    "C31=Conv1D(filters=32, kernel_size=5, strides=1, padding='same')(M21)\n",
    "A31=Activation('relu')(C31)\n",
    "C32=Conv1D(filters=32, kernel_size=5, strides=1, padding='same')(A31)\n",
    "S31=Add()([C32,M21])\n",
    "A32=Activation('relu')(S31)\n",
    "M31=MaxPooling1D(pool_size=5, strides=2)(A32)\n",
    "\n",
    "C41=Conv1D(filters=32, kernel_size=5, strides=1, padding='same')(M31)\n",
    "A41=Activation('relu')(C41)\n",
    "C42=Conv1D(filters=32, kernel_size=5, strides=1, padding='same')(A41)\n",
    "S41=Add()([C42,M31])\n",
    "A42=Activation('relu')(S41)\n",
    "M41=MaxPooling1D(pool_size=5, strides=2)(A42)\n",
    "\n",
    "C51=Conv1D(filters=32, kernel_size=5, strides=1, padding='same')(M41)\n",
    "A51=Activation('relu')(C51)\n",
    "C52=Conv1D(filters=32, kernel_size=5, strides=1, padding='same')(A51)\n",
    "S51=Add()([C52,M41])\n",
    "A52=Activation('relu')(S51)\n",
    "M51=MaxPooling1D(pool_size=5, strides=2)(A52)\n",
    "\n",
    "\n",
    "F1=Flatten()(M51)\n",
    "\n",
    "D1=Dense(32)(F1)\n",
    "A6=Activation('relu')(D1)\n",
    "D2=Dense(32)(A6)\n",
    "\n",
    "#output layer\n",
    "D3=Dense(5)(D2)\n",
    "A7=Softmax()(D3)\n",
    "\n",
    "model=Model(inputs=inp, outputs=A7)\n",
    "\n",
    "model.summary()"
   ]
  },
  {
   "cell_type": "code",
   "execution_count": 26,
   "metadata": {},
   "outputs": [
    {
     "name": "stdout",
     "output_type": "stream",
     "text": [
      "Epoch 1/1\n",
      "87554/87554 [==============================] - 285s 3ms/step - loss: 0.2420 - acc: 0.9321\n"
     ]
    },
    {
     "data": {
      "text/plain": [
       "<keras.callbacks.History at 0x1910248acf8>"
      ]
     },
     "execution_count": 26,
     "metadata": {},
     "output_type": "execute_result"
    }
   ],
   "source": [
    "model.compile(loss='categorical_crossentropy', optimizer='adam', metrics=['accuracy'])\n",
    "model.fit(x_train,y_train,batch_size=100,epochs=1,verbose=1)"
   ]
  },
  {
   "cell_type": "code",
   "execution_count": null,
   "metadata": {},
   "outputs": [],
   "source": []
  }
 ],
 "metadata": {
  "kernelspec": {
   "display_name": "Python 3",
   "language": "python",
   "name": "python3"
  },
  "language_info": {
   "codemirror_mode": {
    "name": "ipython",
    "version": 3
   },
   "file_extension": ".py",
   "mimetype": "text/x-python",
   "name": "python",
   "nbconvert_exporter": "python",
   "pygments_lexer": "ipython3",
   "version": "3.6.7"
  }
 },
 "nbformat": 4,
 "nbformat_minor": 2
}
